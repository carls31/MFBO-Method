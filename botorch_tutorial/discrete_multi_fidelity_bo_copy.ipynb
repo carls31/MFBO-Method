{
  "cells": [
    {
      "attachments": {},
      "cell_type": "markdown",
      "metadata": {},
      "source": [
        "## Multi-Fidelity BO with Discrete Fidelities using KG"
      ]
    },
    {
      "cell_type": "markdown",
      "metadata": {},
      "source": [
        "### Set dtype and device"
      ]
    },
    {
      "cell_type": "code",
      "execution_count": 1,
      "metadata": {},
      "outputs": [
        {
          "name": "stdout",
          "output_type": "stream",
          "text": [
            "Running on PyTorch 1.13.0+cpu\n",
            "Using cpu device\n"
          ]
        }
      ],
      "source": [
        "import os\n",
        "import torch\n",
        "\n",
        "torch.set_default_dtype(torch.double)\n",
        "tkwargs = {\n",
        "    \"dtype\": torch.double,\n",
        "    \"device\": torch.device(\"cuda\" if torch.cuda.is_available() else \"cpu\"),\n",
        "}\n",
        "\n",
        "print('Running on PyTorch {}'.format(torch.__version__))\n",
        "\n",
        "# Get cpu or gpu device for training\n",
        "device = \"cuda\" if torch.cuda.is_available() else \"cpu\"\n",
        "print(\"Using {} device\".format(device))\n",
        "\n",
        "SMOKE_TEST = os.environ.get(\"SMOKE_TEST\")"
      ]
    },
    {
      "attachments": {},
      "cell_type": "markdown",
      "metadata": {},
      "source": [
        "### Problem setup"
      ]
    },
    {
      "cell_type": "code",
      "execution_count": 2,
      "metadata": {},
      "outputs": [],
      "source": [
        "import pandas as pd\n",
        "#df = pd.read_csv('Case3_2nd_launch_WingsConvCoeffs_Info.csv', sep=\";\")\n",
        "df = pd.read_excel('Case5_1st_launch_WingsConvCoeffs_Info.xlsx')\n",
        "df_conv = df[df['Unnamed: 47'] == 'CONVERGED']"
      ]
    },
    {
      "cell_type": "code",
      "execution_count": 19,
      "metadata": {},
      "outputs": [
        {
          "name": "stdout",
          "output_type": "stream",
          "text": [
            "Shape of low fidelity  X and y:  torch.Size([938, 1]) torch.Size([938, 1])\n",
            "Shape of high fidelity X and y:  torch.Size([24, 1]) torch.Size([24, 1])\n",
            "Shape of test set      X and y:  torch.Size([235, 1]) torch.Size([235, 1])\n"
          ]
        }
      ],
      "source": [
        "from sklearn.model_selection import train_test_split\n",
        "\n",
        "dataset, hifi = train_test_split(df_conv, test_size=0.02)\n",
        "lofi, test = train_test_split(dataset, test_size=0.2, random_state=42 )\n",
        "\n",
        "hifi_y = hifi.Cy0Mean.to_numpy()\n",
        "lofi_y = lofi.Cy0Mean.to_numpy()\n",
        "hifi_x = hifi.alpha0.to_numpy()\n",
        "lofi_x = lofi.alpha0.to_numpy()\n",
        "test_y = test.Cy0Mean.to_numpy()\n",
        "test_x = test.alpha0.to_numpy()\n",
        "\n",
        "# normalize features\n",
        "hifi_x = (hifi_x - lofi_x.min()) / (lofi_x.max() - lofi_x.min()) \n",
        "test_x = (test_x - lofi_x.min()) / (lofi_x.max() - lofi_x.min()) \n",
        "lofi_x = (lofi_x - lofi_x.min()) / (lofi_x.max() - lofi_x.min()) \n",
        "\n",
        "# normalize labels\n",
        "mean, std = lofi_y.mean(), lofi_y.std()\n",
        "hifi_y = (hifi_y - mean) / std\n",
        "lofi_y = (lofi_y - mean) / std\n",
        "test_y = (test_y - mean) / std\n",
        "\n",
        "# Cast them\n",
        "noise = torch.rand(lofi_y.shape).unsqueeze(-1)\n",
        "\n",
        "X_hifi = torch.Tensor(hifi_x).unsqueeze(-1)\n",
        "X_lofi = torch.Tensor(lofi_x).unsqueeze(-1)\n",
        "Y_hifi = torch.Tensor(hifi_y).unsqueeze(-1)\n",
        "Y_lofi = noise + torch.Tensor(lofi_y).unsqueeze(-1)\n",
        "X_test = torch.Tensor(test_x).unsqueeze(-1)\n",
        "Y_test = torch.Tensor(test_y).unsqueeze(-1)\n",
        "\n",
        "print(\"Shape of low fidelity  X and y: \",X_lofi.shape, Y_lofi.shape)\n",
        "print(\"Shape of high fidelity X and y: \",X_hifi.shape, Y_hifi.shape)\n",
        "print(\"Shape of test set      X and y: \",X_test.shape, Y_test.shape)"
      ]
    },
    {
      "cell_type": "code",
      "execution_count": 20,
      "metadata": {},
      "outputs": [],
      "source": [
        "from torch import nn\n",
        "# define the neural network\n",
        "class NeuralNetwork(nn.Module):\n",
        "    def __init__(self):\n",
        "        super(NeuralNetwork, self).__init__()\n",
        "        self.fc1 = nn.Linear(2, 64)\n",
        "        self.fc2 = nn.Linear(64, 1)\n",
        "\n",
        "    def forward(self, x):\n",
        "        x = torch.sigmoid(self.fc1(x))\n",
        "        x = self.fc2(x)\n",
        "        return x"
      ]
    },
    {
      "cell_type": "code",
      "execution_count": 5,
      "metadata": {},
      "outputs": [],
      "source": [
        "# train the neural network\n",
        "nn_model = NeuralNetwork()\n",
        "\n",
        "#--- OPTIMIZING THE PARAMETERS OF THE NN ---#\n",
        "\n",
        "loss_fn = nn.MSELoss()\n",
        "optimizer = torch.optim.Adam(nn_model.parameters(), lr=1e-2)\n",
        "# '''\n",
        "# In a single training epoch, the model makes predictions on the training dataset (fed to it in batches)\n",
        "# and backpropagates the prediction error to update the model’s parameters\n",
        "def train(dataloader, model, loss_fn, optimizer):\n",
        "    size = len(dataloader.dataset)\n",
        "    model.train()\n",
        "    for batch, (X, y) in enumerate(dataloader):\n",
        "\n",
        "        # Compute prediction error\n",
        "        pred = model(X)\n",
        "        loss = loss_fn(pred, y)\n",
        "\n",
        "        # Backpropagation\n",
        "        optimizer.zero_grad() # clears old gradients from the last step\n",
        "        loss.backward()\n",
        "        optimizer.step()\n",
        "\n",
        "        if batch % 10 == 0:\n",
        "           loss, current = loss.item(), batch * len(X)\n",
        "           print(f\"loss: {loss:>7f}  [{current:>5d}/{size:>5d}]\")\n",
        "\n",
        "# Check the model’s performance against the test dataset to ensure it is learning\n",
        "def test(dataloader, model, loss_fn):\n",
        "    size = len(dataloader.dataset)\n",
        "    num_batches = len(dataloader)\n",
        "    model.eval()\n",
        "    test_loss, correct = 0, 0\n",
        "    with torch.no_grad():\n",
        "        for X, y in dataloader:\n",
        "            pred = model(X)\n",
        "            test_loss += loss_fn(pred, y).item()\n",
        "            correct += (pred.argmax(1) == y).type(torch.float).sum().item()\n",
        "    test_loss /= num_batches\n",
        "    correct /= size\n",
        "    print(f\"Test Error ->  Avg loss: {test_loss:>8f} \\n\")\n",
        "\n",
        "\n",
        "def pred(new_point, model):\n",
        "    model.eval()\n",
        "    with torch.no_grad():\n",
        "            pred_point = model(new_point)\n",
        "    return pred_point"
      ]
    },
    {
      "cell_type": "markdown",
      "metadata": {},
      "source": [
        "#### Model initialization\n",
        "\n",
        "We use a `SingleTaskMultiFidelityGP` as the surrogate model, which uses a kernel from [2] that is well-suited for multi-fidelity applications. The `SingleTaskMultiFidelityGP` models the design and fidelity parameters jointly, so its domain is $[0,1]^7$."
      ]
    },
    {
      "cell_type": "code",
      "execution_count": 8,
      "metadata": {},
      "outputs": [],
      "source": [
        "from botorch.models.gp_regression_fidelity import SingleTaskMultiFidelityGP\n",
        "from botorch.models.transforms.outcome import Standardize\n",
        "from gpytorch.mlls.exact_marginal_log_likelihood import ExactMarginalLogLikelihood\n",
        "\n",
        "lo_fi = 0.33\n",
        "hi_fi = 1\n",
        "def generate_initial_data():\n",
        "    # generate training data\n",
        "    '''train_x = torch.rand(n, 1, **tkwargs)\n",
        "    train_f = lofidelities[torch.ones(2)]'''\n",
        "    train_f = lo_fi*torch.ones(X_lofi.shape, **tkwargs)\n",
        "    train_x_lofi = torch.cat((X_lofi, train_f), dim=1)\n",
        "    train_x_hifi = torch.cat((X_hifi, torch.ones(X_hifi.shape, **tkwargs)), dim=1)\n",
        "    train_x_full = torch.cat([train_x_lofi, train_x_hifi])\n",
        "    train_obj = torch.cat([Y_lofi, Y_hifi])  # add output dimension\n",
        "    test_X = torch.cat((X_test, torch.ones(X_test.shape, **tkwargs)), dim=1) \n",
        "\n",
        "    return train_x_full, train_obj, test_X\n",
        "\n",
        "\n",
        "def initialize_model(train_x, train_obj):\n",
        "    # define a surrogate model suited for a \"training data\"-like fidelity parameter\n",
        "    # in dimension 6, as in [2]\n",
        "    model = SingleTaskMultiFidelityGP(train_x, train_obj, outcome_transform=Standardize(m=1), data_fidelity=1)\n",
        "    mll = ExactMarginalLogLikelihood(model.likelihood, model)\n",
        "    return mll, model"
      ]
    },
    {
      "cell_type": "code",
      "execution_count": 9,
      "metadata": {},
      "outputs": [],
      "source": [
        "train_x, train_obj, test_X = generate_initial_data()\n",
        "\n",
        "from torch.utils.data import TensorDataset, DataLoader\n",
        "hifi_dataset = TensorDataset(train_x, train_obj)\n",
        "test_dataset = TensorDataset(test_X, Y_test)\n",
        "# Create data loaders\n",
        "hifi_dataloader = DataLoader(hifi_dataset, batch_size = 32, shuffle=True)\n",
        "test_dataloader = DataLoader(test_dataset, batch_size = 32, shuffle=True)"
      ]
    },
    {
      "cell_type": "code",
      "execution_count": 10,
      "metadata": {},
      "outputs": [
        {
          "name": "stdout",
          "output_type": "stream",
          "text": [
            "Epoch 1\n",
            "-------------------------------\n",
            "loss: 1.782607  [    0/ 1002]\n",
            "loss: 0.854304  [  320/ 1002]\n",
            "loss: 0.784380  [  640/ 1002]\n",
            "loss: 0.896530  [  960/ 1002]\n",
            "Test Error ->  Avg loss: 0.853241 \n",
            "\n",
            "Epoch 2\n",
            "-------------------------------\n",
            "loss: 1.226382  [    0/ 1002]\n",
            "loss: 0.814704  [  320/ 1002]\n",
            "loss: 0.634191  [  640/ 1002]\n",
            "loss: 0.574358  [  960/ 1002]\n",
            "Test Error ->  Avg loss: 0.646475 \n",
            "\n",
            "Epoch 3\n",
            "-------------------------------\n",
            "loss: 0.395952  [    0/ 1002]\n",
            "loss: 0.367285  [  320/ 1002]\n",
            "loss: 0.336117  [  640/ 1002]\n",
            "loss: 0.363503  [  960/ 1002]\n",
            "Test Error ->  Avg loss: 0.580859 \n",
            "\n",
            "Epoch 4\n",
            "-------------------------------\n",
            "loss: 0.222086  [    0/ 1002]\n",
            "loss: 0.206795  [  320/ 1002]\n",
            "loss: 0.272136  [  640/ 1002]\n",
            "loss: 0.238652  [  960/ 1002]\n",
            "Test Error ->  Avg loss: 0.654549 \n",
            "\n",
            "Epoch 5\n",
            "-------------------------------\n",
            "loss: 0.226314  [    0/ 1002]\n",
            "loss: 0.233278  [  320/ 1002]\n",
            "loss: 0.218726  [  640/ 1002]\n",
            "loss: 0.213913  [  960/ 1002]\n",
            "Test Error ->  Avg loss: 0.589970 \n",
            "\n",
            "Finish\n"
          ]
        }
      ],
      "source": [
        "epochs = 5\n",
        "for t in range(epochs):\n",
        "    print(f\"Epoch {t+1}\\n-------------------------------\")\n",
        "    train(hifi_dataloader, nn_model, loss_fn, optimizer)\n",
        "    test(test_dataloader, nn_model, loss_fn)\n",
        "print(\"Finish\")"
      ]
    },
    {
      "cell_type": "markdown",
      "metadata": {
        "originalKey": "8add142b-e32b-4f27-8f22-4386879512f6",
        "showInput": false
      },
      "source": [
        "#### Define a helper function to construct the MFKG acquisition function\n",
        "The helper function illustrates how one can initialize an $q$MFKG acquisition function. In this example, we assume that the affine cost is known. We then use the notion of a `CostAwareUtility` in BoTorch to scalarize the \"competing objectives\" of information gain and cost. The MFKG acquisition function optimizes the ratio of information gain to cost, which is captured by the `InverseCostWeightedUtility`.\n",
        "\n",
        "In order for MFKG to evaluate the information gain, it uses the model to predict the function value at the highest fidelity after conditioning on the observation. This is handled by the `project` argument, which specifies how to transform a tensor `X` to its target fidelity. We use a default helper function called `project_to_target_fidelity` to achieve this.\n",
        "\n",
        "An important point to keep in mind: in the case of standard KG, one can ignore the current value and simply optimize the expected maximum posterior mean of the next stage. However, for MFKG, since the goal is optimize information *gain* per cost, it is important to first compute the current value (i.e., maximum of the posterior mean at the target fidelity). To accomplish this, we use a `FixedFeatureAcquisitionFunction` on top of a `PosteriorMean`."
      ]
    },
    {
      "cell_type": "code",
      "execution_count": 11,
      "metadata": {},
      "outputs": [
        {
          "name": "stdout",
          "output_type": "stream",
          "text": [
            "Buonds shape:  torch.Size([2, 2])\n"
          ]
        }
      ],
      "source": [
        "from botorch import fit_gpytorch_mll\n",
        "from botorch.models.cost import AffineFidelityCostModel\n",
        "from botorch.acquisition.cost_aware import InverseCostWeightedUtility\n",
        "from botorch.acquisition import PosteriorMean\n",
        "from botorch.acquisition.knowledge_gradient import qMultiFidelityKnowledgeGradient\n",
        "from botorch.acquisition.fixed_feature import FixedFeatureAcquisitionFunction\n",
        "from botorch.optim.optimize import optimize_acqf\n",
        "from botorch.acquisition.utils import project_to_target_fidelity\n",
        "\n",
        "bounds = torch.Tensor([[0]*(1 + X_lofi.shape[1]), [1]*(1 + X_lofi.shape[1])])\n",
        "print(\"Buonds shape: \", bounds.shape)\n",
        "\n",
        "target_fidelities = {1: 1.0}\n",
        "\n",
        "cost_model = AffineFidelityCostModel(fidelity_weights={1: 1.0}, fixed_cost=5.0)\n",
        "cost_aware_utility = InverseCostWeightedUtility(cost_model=cost_model)\n",
        "\n",
        "\n",
        "def project(X):\n",
        "    return project_to_target_fidelity(X=X, target_fidelities=target_fidelities)\n",
        "\n",
        "def get_mfkg(model):\n",
        "    \n",
        "    curr_val_acqf = FixedFeatureAcquisitionFunction(\n",
        "        acq_function=PosteriorMean(model),\n",
        "        d=2,\n",
        "        columns=[0],\n",
        "        values=[1],\n",
        "    )\n",
        "    \n",
        "    _, current_value = optimize_acqf(\n",
        "        acq_function=curr_val_acqf,\n",
        "        bounds=bounds[:,:-1],\n",
        "        q=1,\n",
        "        num_restarts=10 if not SMOKE_TEST else 2,\n",
        "        raw_samples=1024 if not SMOKE_TEST else 4,\n",
        "        options={\"batch_limit\": 10, \"maxiter\": 200},\n",
        "    ) \n",
        "        \n",
        "    return qMultiFidelityKnowledgeGradient(\n",
        "        model=model,\n",
        "        num_fantasies=128 if not SMOKE_TEST else 2,\n",
        "        current_value=current_value,\n",
        "        cost_aware_utility=cost_aware_utility,\n",
        "        project=project,\n",
        "    )"
      ]
    },
    {
      "cell_type": "markdown",
      "metadata": {},
      "source": [
        "#### Define a helper function that performs the essential BO step\n",
        "This helper function optimizes the acquisition function and returns the batch $\\{x_1, x_2, \\ldots x_q\\}$ along with the observed function values. The function `optimize_acqf_mixed` sequentially optimizes the acquisition function over $x$ for each value of the fidelity $s \\in \\{0, 0.5, 1.0\\}$."
      ]
    },
    {
      "cell_type": "code",
      "execution_count": 12,
      "metadata": {},
      "outputs": [],
      "source": [
        "from botorch.optim.optimize import optimize_acqf_mixed\n",
        "\n",
        "\n",
        "torch.set_printoptions(precision=3, sci_mode=False)\n",
        "\n",
        "NUM_RESTARTS = 5 if not SMOKE_TEST else 2\n",
        "RAW_SAMPLES = 128 if not SMOKE_TEST else 4\n",
        "BATCH_SIZE = 1\n",
        "\n",
        "\n",
        "def optimize_mfkg_and_get_observation(mfkg_acqf):\n",
        "    \"\"\"Optimizes MFKG and returns a new candidate, observation, and cost.\"\"\"\n",
        "\n",
        "    # generate new candidates\n",
        "    candidates, _ = optimize_acqf_mixed(\n",
        "        acq_function=mfkg_acqf,\n",
        "        bounds=bounds,\n",
        "        fixed_features_list=[{1: 0.33}, {1: 1.}],\n",
        "        q=BATCH_SIZE,\n",
        "        num_restarts=NUM_RESTARTS,\n",
        "        raw_samples=RAW_SAMPLES,\n",
        "        # batch_initial_conditions=X_init,\n",
        "        options={\"batch_limit\": 5, \"maxiter\": 200},\n",
        "    )\n",
        "\n",
        "    # observe new values\n",
        "    cost = cost_model(candidates).sum()\n",
        "    new_x = candidates.detach()\n",
        "    new_obj = pred(new_x, nn_model)\n",
        "    print(f\"candidates:\\n{new_x}\\n\")\n",
        "    print(f\"observations:\\n{new_obj}\\n\\n\")\n",
        "    return new_x, new_obj, cost"
      ]
    },
    {
      "cell_type": "markdown",
      "metadata": {},
      "source": [
        "### Perform a few steps of multi-fidelity BO\n",
        "First, let's generate some initial random data and fit a surrogate model."
      ]
    },
    {
      "cell_type": "markdown",
      "metadata": {},
      "source": [
        "We can now use the helper functions above to run a few iterations of BO."
      ]
    },
    {
      "cell_type": "code",
      "execution_count": 13,
      "metadata": {},
      "outputs": [
        {
          "name": "stdout",
          "output_type": "stream",
          "text": [
            "candidates:\n",
            "tensor([[0.939, 0.330]])\n",
            "\n",
            "observations:\n",
            "tensor([[-0.595]])\n",
            "\n",
            "\n",
            "candidates:\n",
            "tensor([[0.000, 0.330]])\n",
            "\n",
            "observations:\n",
            "tensor([[2.133]])\n",
            "\n",
            "\n",
            "candidates:\n",
            "tensor([[0.000, 0.330]])\n",
            "\n",
            "observations:\n",
            "tensor([[2.133]])\n",
            "\n",
            "\n"
          ]
        }
      ],
      "source": [
        "cumulative_cost = 0.0\n",
        "N_ITER = 3 if not SMOKE_TEST else 1\n",
        "\n",
        "for i in range(N_ITER):\n",
        "    mll, model = initialize_model(train_x, train_obj)\n",
        "    fit_gpytorch_mll(mll)\n",
        "    mfkg_acqf = get_mfkg(model)\n",
        "    new_x, new_obj, cost = optimize_mfkg_and_get_observation(mfkg_acqf)\n",
        "    train_x = torch.cat([train_x, new_x])\n",
        "    train_obj = torch.cat([train_obj, new_obj])\n",
        "    cumulative_cost += cost"
      ]
    },
    {
      "cell_type": "markdown",
      "metadata": {},
      "source": [
        "### Make a final recommendation\n",
        "In multi-fidelity BO, there are usually fewer observations of the function at the target fidelity, so it is important to use a recommendation function that uses the correct fidelity. Here, we maximize the posterior mean with the fidelity dimension fixed to the target fidelity of 1.0."
      ]
    },
    {
      "cell_type": "code",
      "execution_count": 14,
      "metadata": {},
      "outputs": [],
      "source": [
        "def get_recommendation(model):\n",
        "    rec_acqf = FixedFeatureAcquisitionFunction(\n",
        "        acq_function=PosteriorMean(model),\n",
        "        d=2,\n",
        "        columns=[0],\n",
        "        values=[1],\n",
        "    )\n",
        "\n",
        "    final_rec, _ = optimize_acqf(\n",
        "        acq_function=rec_acqf,\n",
        "        bounds=bounds[:,:-1],\n",
        "        q=1,\n",
        "        num_restarts=10,\n",
        "        raw_samples=512,\n",
        "        options={\"batch_limit\": 5, \"maxiter\": 200},\n",
        "    )\n",
        "    \n",
        "    final_rec = rec_acqf._construct_X_full(final_rec)\n",
        "    \n",
        "    objective_value = pred(final_rec,nn_model)\n",
        "    print(f\"recommended point:\\n{final_rec}\\n\\nobjective value:\\n{objective_value}\")\n",
        "    return final_rec"
      ]
    },
    {
      "cell_type": "code",
      "execution_count": 15,
      "metadata": {},
      "outputs": [
        {
          "ename": "NameError",
          "evalue": "name 'problem' is not defined",
          "output_type": "error",
          "traceback": [
            "\u001b[1;31m---------------------------------------------------------------------------\u001b[0m",
            "\u001b[1;31mNameError\u001b[0m                                 Traceback (most recent call last)",
            "\u001b[1;32m~\\AppData\\Local\\Temp\\ipykernel_5904\\1927183553.py\u001b[0m in \u001b[0;36m<module>\u001b[1;34m\u001b[0m\n\u001b[1;32m----> 1\u001b[1;33m \u001b[0mfinal_rec\u001b[0m \u001b[1;33m=\u001b[0m \u001b[0mget_recommendation\u001b[0m\u001b[1;33m(\u001b[0m\u001b[0mmodel\u001b[0m\u001b[1;33m)\u001b[0m\u001b[1;33m\u001b[0m\u001b[1;33m\u001b[0m\u001b[0m\n\u001b[0m\u001b[0;32m      2\u001b[0m \u001b[0mprint\u001b[0m\u001b[1;33m(\u001b[0m\u001b[1;34mf\"\\ntotal cost: {cumulative_cost}\\n\"\u001b[0m\u001b[1;33m)\u001b[0m\u001b[1;33m\u001b[0m\u001b[1;33m\u001b[0m\u001b[0m\n",
            "\u001b[1;32m~\\AppData\\Local\\Temp\\ipykernel_5904\\1302518529.py\u001b[0m in \u001b[0;36mget_recommendation\u001b[1;34m(model)\u001b[0m\n\u001b[0;32m     18\u001b[0m     \u001b[0mfinal_rec\u001b[0m \u001b[1;33m=\u001b[0m \u001b[0mrec_acqf\u001b[0m\u001b[1;33m.\u001b[0m\u001b[0m_construct_X_full\u001b[0m\u001b[1;33m(\u001b[0m\u001b[0mfinal_rec\u001b[0m\u001b[1;33m)\u001b[0m\u001b[1;33m\u001b[0m\u001b[1;33m\u001b[0m\u001b[0m\n\u001b[0;32m     19\u001b[0m \u001b[1;33m\u001b[0m\u001b[0m\n\u001b[1;32m---> 20\u001b[1;33m     \u001b[0mobjective_value\u001b[0m \u001b[1;33m=\u001b[0m \u001b[0mproblem\u001b[0m\u001b[1;33m(\u001b[0m\u001b[0mfinal_rec\u001b[0m\u001b[1;33m)\u001b[0m\u001b[1;33m\u001b[0m\u001b[1;33m\u001b[0m\u001b[0m\n\u001b[0m\u001b[0;32m     21\u001b[0m     \u001b[0mprint\u001b[0m\u001b[1;33m(\u001b[0m\u001b[1;34mf\"recommended point:\\n{final_rec}\\n\\nobjective value:\\n{objective_value}\"\u001b[0m\u001b[1;33m)\u001b[0m\u001b[1;33m\u001b[0m\u001b[1;33m\u001b[0m\u001b[0m\n\u001b[0;32m     22\u001b[0m     \u001b[1;32mreturn\u001b[0m \u001b[0mfinal_rec\u001b[0m\u001b[1;33m\u001b[0m\u001b[1;33m\u001b[0m\u001b[0m\n",
            "\u001b[1;31mNameError\u001b[0m: name 'problem' is not defined"
          ]
        }
      ],
      "source": [
        "final_rec = get_recommendation(model)\n",
        "print(f\"\\ntotal cost: {cumulative_cost}\\n\")"
      ]
    },
    {
      "cell_type": "markdown",
      "metadata": {},
      "source": [
        "### Comparison to standard EI (always use target fidelity)\n",
        "Let's now repeat the same steps using a standard EI acquisition function (note that this is not a rigorous comparison as we are only looking at one trial in order to keep computational requirements low)."
      ]
    },
    {
      "cell_type": "code",
      "execution_count": null,
      "metadata": {},
      "outputs": [],
      "source": [
        "from botorch.acquisition import qExpectedImprovement\n",
        "\n",
        "\n",
        "def get_ei(model, best_f):\n",
        "\n",
        "    return FixedFeatureAcquisitionFunction(\n",
        "        acq_function=qExpectedImprovement(model=model, best_f=best_f),\n",
        "        d=2,\n",
        "        columns=[0],\n",
        "        values=[1],\n",
        "    )\n",
        "\n",
        "\n",
        "def optimize_ei_and_get_observation(ei_acqf):\n",
        "    \"\"\"Optimizes EI and returns a new candidate, observation, and cost.\"\"\"\n",
        "\n",
        "    candidates, _ = optimize_acqf(\n",
        "        acq_function=ei_acqf,\n",
        "        bounds=bounds[:, :-1],\n",
        "        q=BATCH_SIZE,\n",
        "        num_restarts=10,\n",
        "        raw_samples=512,\n",
        "        options={\"batch_limit\": 5, \"maxiter\": 200},\n",
        "    )\n",
        "\n",
        "    # add the fidelity parameter\n",
        "    candidates = ei_acqf._construct_X_full(candidates)\n",
        "\n",
        "    # observe new values\n",
        "    cost = cost_model(candidates).sum()\n",
        "    new_x = candidates.detach()\n",
        "    new_obj = problem(new_x).unsqueeze(-1)\n",
        "    print(f\"candidates:\\n{new_x}\\n\")\n",
        "    print(f\"observations:\\n{new_obj}\\n\\n\")\n",
        "    return new_x, new_obj, cost"
      ]
    },
    {
      "cell_type": "code",
      "execution_count": null,
      "metadata": {},
      "outputs": [
        {
          "name": "stdout",
          "output_type": "stream",
          "text": [
            "candidates:\n",
            "tensor([[0.247, 0.687, 0.581, 0.760, 0.093, 0.132, 1.000],\n",
            "        [0.319, 0.850, 0.639, 0.865, 0.000, 0.120, 1.000],\n",
            "        [0.349, 0.666, 0.555, 0.986, 0.000, 0.126, 1.000],\n",
            "        [0.297, 0.792, 0.450, 0.889, 0.034, 0.028, 1.000]], device='cuda:0',\n",
            "       dtype=torch.float64)\n",
            "\n",
            "observations:\n",
            "tensor([[0.973],\n",
            "        [1.091],\n",
            "        [0.340],\n",
            "        [0.902]], device='cuda:0', dtype=torch.float64)\n",
            "\n",
            "\n"
          ]
        },
        {
          "name": "stdout",
          "output_type": "stream",
          "text": [
            "candidates:\n",
            "tensor([[0.194, 0.858, 0.622, 0.799, 0.000, 0.095, 1.000],\n",
            "        [0.341, 0.854, 0.590, 0.767, 0.000, 0.085, 1.000],\n",
            "        [0.999, 0.439, 0.828, 0.975, 0.633, 0.176, 1.000],\n",
            "        [0.296, 0.859, 0.677, 0.806, 0.119, 0.054, 1.000]], device='cuda:0',\n",
            "       dtype=torch.float64)\n",
            "\n",
            "observations:\n",
            "tensor([[    0.862],\n",
            "        [    1.975],\n",
            "        [    0.000],\n",
            "        [    1.514]], device='cuda:0', dtype=torch.float64)\n",
            "\n",
            "\n"
          ]
        },
        {
          "name": "stderr",
          "output_type": "stream",
          "text": [
            "/data/sandcastle/boxes/fbsource/fbcode/buck-out/opt/gen/bento/kernels/bento_kernel_ae#link-tree/gpytorch/utils/cholesky.py:40: NumericalWarning:\n",
            "\n",
            "A not p.d., added jitter of 1.0e-08 to the diagonal\n",
            "\n"
          ]
        },
        {
          "name": "stdout",
          "output_type": "stream",
          "text": [
            "candidates:\n",
            "tensor([[0.360, 0.891, 0.588, 0.749, 0.019, 0.036, 1.000],\n",
            "        [0.049, 0.894, 0.345, 0.210, 0.482, 0.463, 1.000],\n",
            "        [0.398, 0.970, 0.504, 0.213, 0.814, 0.724, 1.000],\n",
            "        [0.817, 0.879, 0.691, 0.842, 0.455, 0.937, 1.000]], device='cuda:0',\n",
            "       dtype=torch.float64)\n",
            "\n",
            "observations:\n",
            "tensor([[2.271],\n",
            "        [0.216],\n",
            "        [0.055],\n",
            "        [0.036]], device='cuda:0', dtype=torch.float64)\n",
            "\n",
            "\n"
          ]
        }
      ],
      "source": [
        "cumulative_cost = 0.0\n",
        "\n",
        "train_x, train_obj = generate_initial_data(n=16)\n",
        "\n",
        "for _ in range(N_ITER):\n",
        "    mll, model = initialize_model(train_x, train_obj)\n",
        "    fit_gpytorch_mll(mll)\n",
        "    ei_acqf = get_ei(model, best_f=train_obj.max())\n",
        "    new_x, new_obj, cost = optimize_ei_and_get_observation(ei_acqf)\n",
        "    train_x = torch.cat([train_x, new_x])\n",
        "    train_obj = torch.cat([train_obj, new_obj])\n",
        "    cumulative_cost += cost"
      ]
    },
    {
      "cell_type": "code",
      "execution_count": null,
      "metadata": {},
      "outputs": [
        {
          "name": "stdout",
          "output_type": "stream",
          "text": [
            "recommended point:\n",
            "tensor([[0.352, 0.874, 0.589, 0.756, 0.008, 0.060, 1.000]], device='cuda:0',\n",
            "       dtype=torch.float64)\n",
            "\n",
            "objective value:\n",
            "tensor([2.166], device='cuda:0', dtype=torch.float64)\n",
            "\n",
            "total cost: 72.0\n",
            "\n"
          ]
        }
      ],
      "source": [
        "final_rec = get_recommendation(model)\n",
        "print(f\"\\ntotal cost: {cumulative_cost}\\n\")"
      ]
    },
    {
      "cell_type": "code",
      "execution_count": null,
      "metadata": {},
      "outputs": [],
      "source": []
    }
  ],
  "metadata": {
    "kernelspec": {
      "display_name": "Python 3",
      "language": "python",
      "name": "python3"
    },
    "language_info": {
      "codemirror_mode": {
        "name": "ipython",
        "version": 3
      },
      "file_extension": ".py",
      "mimetype": "text/x-python",
      "name": "python",
      "nbconvert_exporter": "python",
      "pygments_lexer": "ipython3",
      "version": "3.9.5"
    },
    "vscode": {
      "interpreter": {
        "hash": "1cce27c8212bf6c5aa96f33a3d1153887721b66c5c8cb9adeaa83cce09196b75"
      }
    }
  },
  "nbformat": 4,
  "nbformat_minor": 2
}
